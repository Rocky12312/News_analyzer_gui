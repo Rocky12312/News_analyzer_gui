{
 "cells": [
  {
   "cell_type": "code",
   "execution_count": 1,
   "metadata": {},
   "outputs": [],
   "source": [
    "import numpy as np\n",
    "import pandas as pd"
   ]
  },
  {
   "cell_type": "code",
   "execution_count": 2,
   "metadata": {},
   "outputs": [],
   "source": [
    "df = pd.read_csv(\"news_data.csv\")"
   ]
  },
  {
   "cell_type": "code",
   "execution_count": 3,
   "metadata": {},
   "outputs": [
    {
     "data": {
      "text/html": [
       "<div>\n",
       "<style scoped>\n",
       "    .dataframe tbody tr th:only-of-type {\n",
       "        vertical-align: middle;\n",
       "    }\n",
       "\n",
       "    .dataframe tbody tr th {\n",
       "        vertical-align: top;\n",
       "    }\n",
       "\n",
       "    .dataframe thead th {\n",
       "        text-align: right;\n",
       "    }\n",
       "</style>\n",
       "<table border=\"1\" class=\"dataframe\">\n",
       "  <thead>\n",
       "    <tr style=\"text-align: right;\">\n",
       "      <th></th>\n",
       "      <th>title</th>\n",
       "      <th>Label</th>\n",
       "    </tr>\n",
       "  </thead>\n",
       "  <tbody>\n",
       "    <tr>\n",
       "      <td>0</td>\n",
       "      <td>RADICAL ANTI-GUN MUSLIM State Senator Who Was ...</td>\n",
       "      <td>fake</td>\n",
       "    </tr>\n",
       "    <tr>\n",
       "      <td>1</td>\n",
       "      <td>Factbox: German coalition watch: Merkel seeks ...</td>\n",
       "      <td>real</td>\n",
       "    </tr>\n",
       "    <tr>\n",
       "      <td>2</td>\n",
       "      <td>WATCH: Morning Joe Hosts HORRIFIED By Trump A...</td>\n",
       "      <td>fake</td>\n",
       "    </tr>\n",
       "    <tr>\n",
       "      <td>3</td>\n",
       "      <td>TAXPAYERS PAID SAME WOMEN WHO CRUSHED BABIES’ ...</td>\n",
       "      <td>fake</td>\n",
       "    </tr>\n",
       "    <tr>\n",
       "      <td>4</td>\n",
       "      <td>WOW! STERLING HTS, MI CITY COUNCIL Caves On Me...</td>\n",
       "      <td>fake</td>\n",
       "    </tr>\n",
       "    <tr>\n",
       "      <td>...</td>\n",
       "      <td>...</td>\n",
       "      <td>...</td>\n",
       "    </tr>\n",
       "    <tr>\n",
       "      <td>55237</td>\n",
       "      <td>Foreign ministers of U.S., Cuba discuss Obama ...</td>\n",
       "      <td>real</td>\n",
       "    </tr>\n",
       "    <tr>\n",
       "      <td>55238</td>\n",
       "      <td>U.S. ally seen clinching re-election in Hondur...</td>\n",
       "      <td>real</td>\n",
       "    </tr>\n",
       "    <tr>\n",
       "      <td>55239</td>\n",
       "      <td>This Photo Of Donald Trump And His Daughter W...</td>\n",
       "      <td>fake</td>\n",
       "    </tr>\n",
       "    <tr>\n",
       "      <td>55240</td>\n",
       "      <td>Merkel call to stop Turkey's EU bid draws mixe...</td>\n",
       "      <td>real</td>\n",
       "    </tr>\n",
       "    <tr>\n",
       "      <td>55241</td>\n",
       "      <td>LIVE FEED: Boom! Sessions Comes Out Swinging [...</td>\n",
       "      <td>fake</td>\n",
       "    </tr>\n",
       "  </tbody>\n",
       "</table>\n",
       "<p>55242 rows × 2 columns</p>\n",
       "</div>"
      ],
      "text/plain": [
       "                                                   title Label\n",
       "0      RADICAL ANTI-GUN MUSLIM State Senator Who Was ...  fake\n",
       "1      Factbox: German coalition watch: Merkel seeks ...  real\n",
       "2       WATCH: Morning Joe Hosts HORRIFIED By Trump A...  fake\n",
       "3      TAXPAYERS PAID SAME WOMEN WHO CRUSHED BABIES’ ...  fake\n",
       "4      WOW! STERLING HTS, MI CITY COUNCIL Caves On Me...  fake\n",
       "...                                                  ...   ...\n",
       "55237  Foreign ministers of U.S., Cuba discuss Obama ...  real\n",
       "55238  U.S. ally seen clinching re-election in Hondur...  real\n",
       "55239   This Photo Of Donald Trump And His Daughter W...  fake\n",
       "55240  Merkel call to stop Turkey's EU bid draws mixe...  real\n",
       "55241  LIVE FEED: Boom! Sessions Comes Out Swinging [...  fake\n",
       "\n",
       "[55242 rows x 2 columns]"
      ]
     },
     "execution_count": 3,
     "metadata": {},
     "output_type": "execute_result"
    }
   ],
   "source": [
    "df"
   ]
  },
  {
   "cell_type": "code",
   "execution_count": null,
   "metadata": {},
   "outputs": [],
   "source": []
  }
 ],
 "metadata": {
  "kernelspec": {
   "display_name": "Python 3",
   "language": "python",
   "name": "python3"
  },
  "language_info": {
   "codemirror_mode": {
    "name": "ipython",
    "version": 3
   },
   "file_extension": ".py",
   "mimetype": "text/x-python",
   "name": "python",
   "nbconvert_exporter": "python",
   "pygments_lexer": "ipython3",
   "version": "3.7.4"
  }
 },
 "nbformat": 4,
 "nbformat_minor": 2
}
